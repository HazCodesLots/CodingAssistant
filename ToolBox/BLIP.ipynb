{
 "cells": [
  {
   "cell_type": "code",
   "execution_count": 1,
   "id": "a3635f50-9d4b-48ec-8d7d-f8c1e09358a1",
   "metadata": {},
   "outputs": [
    {
     "name": "stderr",
     "output_type": "stream",
     "text": [
      "Using a slow image processor as `use_fast` is unset and a slow processor was saved with this model. `use_fast=True` will be the default behavior in v4.52, even if the model was saved with a slow processor. This will result in minor differences in outputs. You'll still be able to use a slow processor with `use_fast=False`.\n"
     ]
    },
    {
     "data": {
      "application/vnd.jupyter.widget-view+json": {
       "model_id": "963a1151a4384fb182c02144e8331fa4",
       "version_major": 2,
       "version_minor": 0
      },
      "text/plain": [
       "Loading checkpoint shards:   0%|          | 0/2 [00:00<?, ?it/s]"
      ]
     },
     "metadata": {},
     "output_type": "display_data"
    }
   ],
   "source": [
    "from transformers import Blip2Processor, Blip2ForConditionalGeneration\n",
    "from PIL import Image\n",
    "import torch\n",
    "\n",
    "processor = Blip2Processor.from_pretrained(\"Salesforce/blip2-flan-t5-xl\")\n",
    "model = Blip2ForConditionalGeneration.from_pretrained(\n",
    "    \"Salesforce/blip2-flan-t5-xl\",\n",
    "    torch_dtype=torch.float16\n",
    ")\n",
    "\n",
    "device = torch.device(\"cuda\" if torch.cuda.is_available() else \"cpu\")\n",
    "model.to(device)\n",
    "\n",
    "def ask_image_question(image_path, question):\n",
    "    image = Image.open(image_path).convert('RGB')\n",
    "    inputs = processor(image, question=question, return_tensors=\"pt\").to(device)\n",
    "    out = model.generate(**inputs)\n",
    "    return processor.decode(out[0], skip_special_tokens=True)"
   ]
  },
  {
   "cell_type": "code",
   "execution_count": null,
   "id": "650a7808-6d6f-424b-a8f4-06d5f38c711f",
   "metadata": {},
   "outputs": [],
   "source": [
    "from llama_cpp import Llama\n",
    "import os\n",
    "\n",
    "openhermes_path = r\"C:\\GGUF\\TheBloke\\OpenHermes-2.5-Mistral-7B-GGUF\\openhermes-2.5-mistral-7b.Q4_K_M.gguf\"\n",
    "\n",
    "OpenHermes = Llama(\n",
    "    model_path=openhermes_path,\n",
    "    n_gpu_layers=20,\n",
    "    n_ctx=2048,\n",
    "    n_batch=256,\n",
    "    n_threads=6,\n",
    "    use_mlock=True,\n",
    "    verbose=True\n",
    ")"
   ]
  },
  {
   "cell_type": "code",
   "execution_count": 3,
   "id": "2c83e6df-1d28-4ea9-806b-17acad3c993c",
   "metadata": {},
   "outputs": [],
   "source": [
    "def blip2_to_openhermes(image_path, question):\n",
    "    print(f\"❓ QnA: {question}\")\n",
    "    \n",
    "    visual_answer = ask_image_question(image_path, question)\n",
    "    print(\"📸 BLIP-2 Answer:\", visual_answer)\n",
    "\n",
    "    hermes_prompt = (\n",
    "        f\"The image was analyzed and the answer to the question \"\n",
    "        f\"'{question}' is: '{visual_answer}'. Can you provide a deeper interpretation?\"\n",
    "    )\n",
    "    full_prompt = f\"<|user|>\\n{hermes_prompt}\\n<|assistant|>\\n\"\n",
    "\n",
    "    response = OpenHermes(full_prompt, max_tokens=300, stop=[\"<|user|>\"])\n",
    "    hermes_text = response[\"choices\"][0][\"text\"]\n",
    "\n",
    "    print(\"🧠 OpenHermes Response:\", hermes_text)\n"
   ]
  },
  {
   "cell_type": "code",
   "execution_count": 4,
   "id": "e98d9a40-d1a5-4378-b610-c2533065a2f5",
   "metadata": {},
   "outputs": [
    {
     "name": "stderr",
     "output_type": "stream",
     "text": [
      "Keyword argument `question` is not a valid argument for this processor and will be ignored.\n"
     ]
    },
    {
     "name": "stdout",
     "output_type": "stream",
     "text": [
      "❓ QnA: Describe this image\n",
      "📸 BLIP-2 Answer: a man is sitting in a chair with a laptop computer\n"
     ]
    },
    {
     "name": "stderr",
     "output_type": "stream",
     "text": [
      "llama_perf_context_print:        load time =    4881.86 ms\n",
      "llama_perf_context_print: prompt eval time =    4880.02 ms /    52 tokens (   93.85 ms per token,    10.66 tokens per second)\n",
      "llama_perf_context_print:        eval time =   26054.91 ms /   121 runs   (  215.33 ms per token,     4.64 tokens per second)\n",
      "llama_perf_context_print:       total time =   31022.37 ms /   173 tokens\n"
     ]
    },
    {
     "name": "stdout",
     "output_type": "stream",
     "text": [
      "🧠 OpenHermes Response: Upon further analysis, it appears that the man is not just sitting in a chair with a laptop computer, but he seems to be engrossed in a task or activity on the laptop. His posture suggests that he is concentrating and focused on whatever he is doing. It could be work-related or personal, but the image conveys a sense of productivity or engagement. The lighting and background of the image also seem to suggest a sense of orderliness or professionalism. Overall, this image may represent the contemporary lifestyle of someone who is comfortable with technology and uses it to stay productive.\n"
     ]
    }
   ],
   "source": [
    "image_path = r\"C:\\Users\\DaysPC\\Pictures\\Screenshots\\PFP.jpg\"\n",
    "question = \"Describe this image\"\n",
    "blip2_to_openhermes(image_path, question)"
   ]
  },
  {
   "cell_type": "code",
   "execution_count": null,
   "id": "12c37e05-0aca-4065-b7d1-deba834177c6",
   "metadata": {},
   "outputs": [],
   "source": []
  }
 ],
 "metadata": {
  "kernelspec": {
   "display_name": "Python [conda env:py310-cuda]",
   "language": "python",
   "name": "conda-env-py310-cuda-py"
  },
  "language_info": {
   "codemirror_mode": {
    "name": "ipython",
    "version": 3
   },
   "file_extension": ".py",
   "mimetype": "text/x-python",
   "name": "python",
   "nbconvert_exporter": "python",
   "pygments_lexer": "ipython3",
   "version": "3.10.18"
  }
 },
 "nbformat": 4,
 "nbformat_minor": 5
}
